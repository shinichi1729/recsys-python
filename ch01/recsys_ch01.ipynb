{
  "nbformat": 4,
  "nbformat_minor": 0,
  "metadata": {
    "colab": {
      "provenance": []
    },
    "kernelspec": {
      "name": "python3",
      "display_name": "Python 3"
    },
    "language_info": {
      "name": "python"
    }
  },
  "cells": [
    {
      "cell_type": "markdown",
      "source": [
        "# 第1章 評価行列"
      ],
      "metadata": {
        "id": "gzkHCjfF7b0c"
      }
    },
    {
      "cell_type": "code",
      "source": [
        "import numpy as np"
      ],
      "metadata": {
        "id": "NxRyI1eB6c0a"
      },
      "execution_count": null,
      "outputs": []
    },
    {
      "cell_type": "code",
      "source": [
        "Du = np.array([\n",
        "          [5, 3, +1],\n",
        "          [6, 2, +1],\n",
        "          [4, 1, +1],\n",
        "          [8, 5, -1],\n",
        "          [2, 4, -1],\n",
        "          [3, 6, -1],\n",
        "          [7, 6, -1],\n",
        "          [4, 2, np.nan],\n",
        "          [5, 1, np.nan],\n",
        "          [8, 6, np.nan],\n",
        "          [3, 4, np.nan],\n",
        "          [4, 7, np.nan],\n",
        "          [4, 4, np.nan],\n",
        "])"
      ],
      "metadata": {
        "id": "2axxR1_-7wOE"
      },
      "execution_count": null,
      "outputs": []
    },
    {
      "cell_type": "code",
      "source": [
        "print(f\"Du = \\n{Du}\")"
      ],
      "metadata": {
        "colab": {
          "base_uri": "https://localhost:8080/"
        },
        "id": "XhUyYjUY7y4s",
        "outputId": "3e74355a-9fdd-4d66-c78a-5d2419e36377"
      },
      "execution_count": null,
      "outputs": [
        {
          "output_type": "stream",
          "name": "stdout",
          "text": [
            "Du = \n",
            "[[ 5.  3.  1.]\n",
            " [ 6.  2.  1.]\n",
            " [ 4.  1.  1.]\n",
            " [ 8.  5. -1.]\n",
            " [ 2.  4. -1.]\n",
            " [ 3.  6. -1.]\n",
            " [ 7.  6. -1.]\n",
            " [ 4.  2. nan]\n",
            " [ 5.  1. nan]\n",
            " [ 8.  6. nan]\n",
            " [ 3.  4. nan]\n",
            " [ 4.  7. nan]\n",
            " [ 4.  4. nan]]\n"
          ]
        }
      ]
    },
    {
      "cell_type": "code",
      "source": [
        "print(f\"Duの形状 = {Du.shape}\")\n",
        "print(f\"Duの行数 = {Du.shape[0]}\")\n",
        "print(f\"Duの列数 = {Du.shape[1]}\")\n",
        "print(f\"Duの全要素数 = {Du.size}\")"
      ],
      "metadata": {
        "colab": {
          "base_uri": "https://localhost:8080/"
        },
        "id": "vaCgpsL078Zw",
        "outputId": "81ecfce5-6373-4c2d-c4e7-497af4c5a3d5"
      },
      "execution_count": null,
      "outputs": [
        {
          "output_type": "stream",
          "name": "stdout",
          "text": [
            "Duの形状 = (13, 3)\n",
            "Duの行数 = 13\n",
            "Duの列数 = 3\n",
            "Duの全要素数 = 39\n"
          ]
        }
      ]
    },
    {
      "cell_type": "code",
      "source": [
        "# アイテム集合\n",
        "I = np.arange(Du.shape[0])\n",
        "print(f\"I = {I}\")\n",
        "\n",
        "# アイテムの特徴ベクトル\n",
        "print(f\"x = \\n{Du[:, :2]}\")\n",
        "\n",
        "# アイテムiの特徴ベクトル\n",
        "i = 0\n",
        "print(f\"x{i} = {Du[i, :2]}\")"
      ],
      "metadata": {
        "colab": {
          "base_uri": "https://localhost:8080/"
        },
        "id": "lXKy5HVC8CLv",
        "outputId": "abcc25ff-a9da-4b2a-c598-c05746424f96"
      },
      "execution_count": null,
      "outputs": [
        {
          "output_type": "stream",
          "name": "stdout",
          "text": [
            "I = [ 0  1  2  3  4  5  6  7  8  9 10 11 12]\n",
            "x = \n",
            "[[5. 3.]\n",
            " [6. 2.]\n",
            " [4. 1.]\n",
            " [8. 5.]\n",
            " [2. 4.]\n",
            " [3. 6.]\n",
            " [7. 6.]\n",
            " [4. 2.]\n",
            " [5. 1.]\n",
            " [8. 6.]\n",
            " [3. 4.]\n",
            " [4. 7.]\n",
            " [4. 4.]]\n",
            "x0 = [5. 3.]\n"
          ]
        }
      ]
    },
    {
      "cell_type": "code",
      "source": [
        "# 評価地集合\n",
        "ru = Du[:, 2]\n",
        "print(f\"ru = {ru}\")\n",
        "\n",
        "print(f\"ruの形状 = {ru.shape}\")\n",
        "print(f\"ruの全要素数 = {ru.size}\")\n",
        "\n",
        "i, j = 2, 5\n",
        "print(f\"ru{i}からru{j}までの評価値 = {ru[i:j+1]}\")\n",
        "print(f\"ruの逆順 = {ru[::-1]}\")\n",
        "\n",
        "i = 0\n",
        "print(f\"ru{i} = {ru[i]}\")\n"
      ],
      "metadata": {
        "colab": {
          "base_uri": "https://localhost:8080/"
        },
        "id": "mEOpB0DB8b9D",
        "outputId": "eb102894-6a89-4bed-9f74-3905a578bf26"
      },
      "execution_count": null,
      "outputs": [
        {
          "output_type": "stream",
          "name": "stdout",
          "text": [
            "ru = [ 1.  1.  1. -1. -1. -1. -1. nan nan nan nan nan nan]\n",
            "ruの形状 = (13,)\n",
            "ruの全要素数 = 13\n",
            "ru2からru5までの評価値 = [ 1. -1. -1. -1.]\n",
            "ruの逆順 = [nan nan nan nan nan nan -1. -1. -1. -1.  1.  1.  1.]\n",
            "ru0 = 1.0\n"
          ]
        }
      ]
    },
    {
      "cell_type": "code",
      "source": [
        "# アイテム集合\n",
        "print(f\"ユーザーuが未評価 = {np.isnan(ru)}\")\n",
        "print(f\"ユーザーuが評価済み = {~np.isnan(ru)}\")\n",
        "\n",
        "Iu = I[~np.isnan(ru)]\n",
        "print(f\"Iu = {Iu}\")\n",
        "\n",
        "Iup = I[ru == 1]\n",
        "print(f\"Iu+ = {Iup}\")\n",
        "\n",
        "Iun = I[ru == -1]\n",
        "print(f\"Iu- = {Iun}\")\n",
        "\n",
        "Iu_not = I[np.isnan(ru)]\n",
        "print(f\"Iu_not = {Iu_not}\")"
      ],
      "metadata": {
        "colab": {
          "base_uri": "https://localhost:8080/"
        },
        "id": "C0Z0Yil--zTx",
        "outputId": "301be769-e933-42e7-c55b-dbee4fde327b"
      },
      "execution_count": null,
      "outputs": [
        {
          "output_type": "stream",
          "name": "stdout",
          "text": [
            "ユーザーuが未評価 = [False False False False False False False  True  True  True  True  True\n",
            "  True]\n",
            "ユーザーuが評価済み = [ True  True  True  True  True  True  True False False False False False\n",
            " False]\n",
            "Iu = [0 1 2 3 4 5 6]\n",
            "Iu+ = [0 1 2]\n",
            "Iu- = [3 4 5 6]\n",
            "Iu_not = [ 7  8  9 10 11 12]\n"
          ]
        }
      ]
    },
    {
      "cell_type": "code",
      "source": [
        "# 訓練データと予測対象データ\n",
        "DuL = Du[Iu]\n",
        "print(f\"DuL = \\n{DuL}\")\n",
        "print(f\"|DuL| = {DuL.shape}\")\n",
        "print(f\"|DuL+| = {DuL[DuL[:, 2] > 0].shape[1]}\")\n",
        "\n",
        "DuU = Du[Iu_not]\n",
        "print(f\"DuU = \\n{DuU}\")\n",
        "\n",
        "print(f\"|DuU| = {DuU.shape[0]}\")"
      ],
      "metadata": {
        "colab": {
          "base_uri": "https://localhost:8080/"
        },
        "id": "JD2yCrSF_5kx",
        "outputId": "edcba44d-f3fc-458a-b084-94932c723fe4"
      },
      "execution_count": null,
      "outputs": [
        {
          "output_type": "stream",
          "name": "stdout",
          "text": [
            "DuL = \n",
            "[[ 5.  3.  1.]\n",
            " [ 6.  2.  1.]\n",
            " [ 4.  1.  1.]\n",
            " [ 8.  5. -1.]\n",
            " [ 2.  4. -1.]\n",
            " [ 3.  6. -1.]\n",
            " [ 7.  6. -1.]]\n",
            "|DuL| = (7, 3)\n",
            "|DuL+| = 3\n",
            "DuU = \n",
            "[[ 4.  2. nan]\n",
            " [ 5.  1. nan]\n",
            " [ 8.  6. nan]\n",
            " [ 3.  4. nan]\n",
            " [ 4.  7. nan]\n",
            " [ 4.  4. nan]]\n",
            "|DuU| = 6\n"
          ]
        }
      ]
    }
  ]
}