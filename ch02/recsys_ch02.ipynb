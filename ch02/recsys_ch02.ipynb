{
  "nbformat": 4,
  "nbformat_minor": 0,
  "metadata": {
    "colab": {
      "provenance": []
    },
    "kernelspec": {
      "name": "python3",
      "display_name": "Python 3"
    },
    "language_info": {
      "name": "python"
    }
  },
  "cells": [
    {
      "cell_type": "markdown",
      "source": [
        "# 評価値行列"
      ],
      "metadata": {
        "id": "aar6MXGDv-3b"
      }
    },
    {
      "cell_type": "code",
      "source": [
        "import pprint\n",
        "import numpy as np\n",
        "np.set_printoptions(precision=3)"
      ],
      "metadata": {
        "id": "Y3B8UTsJv7xg"
      },
      "execution_count": 26,
      "outputs": []
    },
    {
      "cell_type": "code",
      "source": [
        "R = np.array([\n",
        "              [np.nan, 4,      3,      1,      2,      np.nan],\n",
        "              [5,      5,      4,      np.nan, 3,      3     ],\n",
        "              [4,      np.nan, 5,      3,      2,      np.nan],\n",
        "              [np.nan, 3,      np.nan, 2,      1,      1     ],\n",
        "              [2,      1,      2,      4,      np.nan, 3     ],\n",
        "])"
      ],
      "metadata": {
        "id": "JGXHb-2vwFqI"
      },
      "execution_count": 27,
      "outputs": []
    },
    {
      "cell_type": "code",
      "source": [
        "U = np.arange(R.shape[0])  # ユーザー集合\n",
        "I = np.arange(R.shape[1])   # アイテム集合\n",
        "\n",
        "print(f\"| U | = {U.size}\")\n",
        "print(f\"| I | = {I.size}\")"
      ],
      "metadata": {
        "colab": {
          "base_uri": "https://localhost:8080/"
        },
        "id": "KDeZ4qDIwg7y",
        "outputId": "4a180db0-78ee-4158-ceea-dc1fb18dab60"
      },
      "execution_count": 28,
      "outputs": [
        {
          "output_type": "stream",
          "name": "stdout",
          "text": [
            "| U | = 5\n",
            "| I | = 6\n"
          ]
        }
      ]
    },
    {
      "cell_type": "code",
      "source": [
        "u, i = 0, 1\n",
        "print(f\"R_ui = {R[u][i]}\")\n",
        "print(f\"Rの全要素数 = {R.size}\")"
      ],
      "metadata": {
        "colab": {
          "base_uri": "https://localhost:8080/"
        },
        "id": "wOuEjxMhwrIW",
        "outputId": "a24f79cf-14e0-4082-e184-812ac50110ad"
      },
      "execution_count": 29,
      "outputs": [
        {
          "output_type": "stream",
          "name": "stdout",
          "text": [
            "R_ui = 4.0\n",
            "Rの全要素数 = 30\n"
          ]
        }
      ]
    },
    {
      "cell_type": "code",
      "source": [
        "print(f\"観測値 = \\n {~np.isnan(R)}\")\n",
        "print(f\"| R | = {np.count_nonzero(~np.isnan(R))}\")"
      ],
      "metadata": {
        "colab": {
          "base_uri": "https://localhost:8080/"
        },
        "id": "bLcGh56kxQBZ",
        "outputId": "4667164d-8dab-4c34-988b-3edb52f75f34"
      },
      "execution_count": 30,
      "outputs": [
        {
          "output_type": "stream",
          "name": "stdout",
          "text": [
            "観測値 = \n",
            " [[False  True  True  True  True False]\n",
            " [ True  True  True False  True  True]\n",
            " [ True False  True  True  True False]\n",
            " [False  True False  True  True  True]\n",
            " [ True  True  True  True False  True]]\n",
            "| R | = 22\n"
          ]
        }
      ]
    },
    {
      "cell_type": "code",
      "source": [
        "# 同様の形状のbool値のテンソルでインデキシングするとflatにしてtrueの部分のみ返される.\n",
        "sample = np.array([[1, 2], [3, 4]])\n",
        "print(sample[np.array([[True, False], [False, True]])])"
      ],
      "metadata": {
        "colab": {
          "base_uri": "https://localhost:8080/"
        },
        "id": "VzK3ZKtyxzzl",
        "outputId": "88216666-5d72-44f7-8f36-c39dcc4417c2"
      },
      "execution_count": 31,
      "outputs": [
        {
          "output_type": "stream",
          "name": "stdout",
          "text": [
            "[1 4]\n"
          ]
        }
      ]
    },
    {
      "cell_type": "code",
      "source": [
        "sparsity = 1 - np.count_nonzero(~np.isnan(R)) / R.size\n",
        "print(f\"sparsity = {sparsity}\")"
      ],
      "metadata": {
        "colab": {
          "base_uri": "https://localhost:8080/"
        },
        "id": "wx9TLdx_ygwh",
        "outputId": "50e03ce1-e948-4a12-dc85-215074e18527"
      },
      "execution_count": 32,
      "outputs": [
        {
          "output_type": "stream",
          "name": "stdout",
          "text": [
            "sparsity = 0.2666666666666667\n"
          ]
        }
      ]
    },
    {
      "cell_type": "code",
      "source": [
        "u = 0\n",
        "print(f\"I_{u} = {I[~np.isnan(R[u])]}\")"
      ],
      "metadata": {
        "colab": {
          "base_uri": "https://localhost:8080/"
        },
        "id": "8D76IDJFzNMT",
        "outputId": "51ef401c-9cb7-4465-a9f4-1f63461a9194"
      },
      "execution_count": 33,
      "outputs": [
        {
          "output_type": "stream",
          "name": "stdout",
          "text": [
            "I_0 = [1 2 3 4]\n"
          ]
        }
      ]
    },
    {
      "cell_type": "code",
      "source": [
        "Iu = [I[~np.isnan(R[u])] for u in U]\n",
        "print(\"Iu = \")\n",
        "pprint.pprint(Iu)"
      ],
      "metadata": {
        "colab": {
          "base_uri": "https://localhost:8080/"
        },
        "id": "RHDyHfvdzvqT",
        "outputId": "bf284e13-1746-40d9-b00b-0e0965a336ac"
      },
      "execution_count": 34,
      "outputs": [
        {
          "output_type": "stream",
          "name": "stdout",
          "text": [
            "Iu = \n",
            "[array([1, 2, 3, 4]),\n",
            " array([0, 1, 2, 4, 5]),\n",
            " array([0, 2, 3, 4]),\n",
            " array([1, 3, 4, 5]),\n",
            " array([0, 1, 2, 3, 5])]\n"
          ]
        }
      ]
    },
    {
      "cell_type": "code",
      "source": [
        "u, v = 0, 1\n",
        "print(f\"Iu & Iv = {np.intersect1d(Iu[u], Iu[v])}\")"
      ],
      "metadata": {
        "colab": {
          "base_uri": "https://localhost:8080/"
        },
        "id": "buDscjAS0KHw",
        "outputId": "9243158d-3f48-419d-ea47-b67b2427345a"
      },
      "execution_count": 35,
      "outputs": [
        {
          "output_type": "stream",
          "name": "stdout",
          "text": [
            "Iu & Iv = [1 2 4]\n"
          ]
        }
      ]
    },
    {
      "cell_type": "code",
      "source": [
        "Ui = [U[~np.isnan(R[:, i])] for i in I]\n",
        "print(\"Ui = \")\n",
        "pprint.pprint(Ui)"
      ],
      "metadata": {
        "colab": {
          "base_uri": "https://localhost:8080/"
        },
        "id": "vgg-8XzO0tUB",
        "outputId": "2bf4fec6-039d-46b1-b6ad-cafbfe2efea5"
      },
      "execution_count": 39,
      "outputs": [
        {
          "output_type": "stream",
          "name": "stdout",
          "text": [
            "Ui = \n",
            "[array([1, 2, 4]),\n",
            " array([0, 1, 3, 4]),\n",
            " array([0, 1, 2, 4]),\n",
            " array([0, 2, 3, 4]),\n",
            " array([0, 1, 2, 3]),\n",
            " array([1, 3, 4])]\n"
          ]
        }
      ]
    },
    {
      "cell_type": "code",
      "source": [
        "i, j = 0, 1\n",
        "print(f\"Ui & Uj = {np.intersect1d(Ui[i], Ui[j])}\")"
      ],
      "metadata": {
        "colab": {
          "base_uri": "https://localhost:8080/"
        },
        "id": "zrIZ1MtN1TIu",
        "outputId": "2f9ee713-5d42-4bd8-df67-8df0883bf6f7"
      },
      "execution_count": 40,
      "outputs": [
        {
          "output_type": "stream",
          "name": "stdout",
          "text": [
            "Ui & Uj = [1 4]\n"
          ]
        }
      ]
    },
    {
      "cell_type": "code",
      "source": [
        "# 平均中心化評価値行列\n",
        "print(f\"Rの平均評価値 = {np.nanmean(R)}\")"
      ],
      "metadata": {
        "colab": {
          "base_uri": "https://localhost:8080/"
        },
        "id": "qc6ORsNz14DL",
        "outputId": "f715c2ca-6d81-42ce-a6ae-e497fcf94c9f"
      },
      "execution_count": 43,
      "outputs": [
        {
          "output_type": "stream",
          "name": "stdout",
          "text": [
            "Rの平均評価値 = 2.8636363636363638\n"
          ]
        }
      ]
    },
    {
      "cell_type": "code",
      "source": [
        "ri_mean = [np.nanmean(R[:, i]) for i in I]\n",
        "ri_mean = np.nanmean(R, axis=0)\n",
        "print(ri_mean)"
      ],
      "metadata": {
        "colab": {
          "base_uri": "https://localhost:8080/"
        },
        "id": "AsqiHSZC2TRs",
        "outputId": "8a414aa5-5ecf-46fa-b291-c191fe6b2b57"
      },
      "execution_count": 49,
      "outputs": [
        {
          "output_type": "stream",
          "name": "stdout",
          "text": [
            "[3.667 3.25  3.5   2.5   2.    2.333]\n"
          ]
        }
      ]
    },
    {
      "cell_type": "code",
      "source": [
        "ru_mean = [np.nanmean(R[u]) for u in U]\n",
        "ru_mean = np.nanmean(R, axis=1)\n",
        "print(ru_mean)"
      ],
      "metadata": {
        "colab": {
          "base_uri": "https://localhost:8080/"
        },
        "id": "Ii4Gdmto2osQ",
        "outputId": "2fe9c012-b8d8-4b1e-92d0-894c5c503263"
      },
      "execution_count": 52,
      "outputs": [
        {
          "output_type": "stream",
          "name": "stdout",
          "text": [
            "[2.5  4.   3.5  1.75 2.4 ]\n"
          ]
        }
      ]
    },
    {
      "cell_type": "code",
      "source": [
        "ru_mean = ru_mean.reshape(5, 1)\n",
        "print(ru_mean)"
      ],
      "metadata": {
        "colab": {
          "base_uri": "https://localhost:8080/"
        },
        "id": "klPLGTWR21Tr",
        "outputId": "b5c9e559-fea4-456c-8d79-f1142bd32712"
      },
      "execution_count": 54,
      "outputs": [
        {
          "output_type": "stream",
          "name": "stdout",
          "text": [
            "[[2.5 ]\n",
            " [4.  ]\n",
            " [3.5 ]\n",
            " [1.75]\n",
            " [2.4 ]]\n"
          ]
        }
      ]
    },
    {
      "cell_type": "code",
      "source": [
        "R2 = R - ru_mean\n",
        "print(f\"R' = \\n{R2}\")"
      ],
      "metadata": {
        "colab": {
          "base_uri": "https://localhost:8080/"
        },
        "id": "sQVBFslM2-7M",
        "outputId": "46a5c7d3-fc61-4897-e223-6d2a5064f9e9"
      },
      "execution_count": 55,
      "outputs": [
        {
          "output_type": "stream",
          "name": "stdout",
          "text": [
            "R' = \n",
            "[[  nan  1.5   0.5  -1.5  -0.5    nan]\n",
            " [ 1.    1.    0.     nan -1.   -1.  ]\n",
            " [ 0.5    nan  1.5  -0.5  -1.5    nan]\n",
            " [  nan  1.25   nan  0.25 -0.75 -0.75]\n",
            " [-0.4  -1.4  -0.4   1.6    nan  0.6 ]]\n"
          ]
        }
      ]
    }
  ]
}